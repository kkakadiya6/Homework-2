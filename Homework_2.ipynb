{
 "cells": [
  {
   "cell_type": "markdown",
   "metadata": {},
   "source": [
    "# PHYS 3266/6260: Homework 2, Krish Kakadiya"
   ]
  },
  {
   "cell_type": "markdown",
   "metadata": {},
   "source": [
    "## Problem 1\n",
    "\n",
    "For this I defined each constant seperately, and then also defined fractions seperately so the final call for the result is cleaner."
   ]
  },
  {
   "cell_type": "markdown",
   "metadata": {},
   "source": [
    "###\n",
    " The first three lines defined the three constants we need, and then our input T is turned into a float.\n",
    " It computes the height h using the values provided and prints it.\n",
    " The following after that calculates heights for periods of one day, 90 minutes, and for 45 minutes."
   ]
  },
  {
   "cell_type": "code",
   "execution_count": 64,
   "metadata": {
    "collapsed": false,
    "jupyter": {
     "outputs_hidden": false
    }
   },
   "outputs": [
    {
     "name": "stdout",
     "output_type": "stream",
     "text": [
      "Height for a period of one day: 35855910.17617497\n",
      "Height for a period of 90 minutes: 279321.62537285965\n",
      "Height for a period of 45 minutes: -2181559.8978108233\n"
     ]
    }
   ],
   "source": [
    "import numpy\n",
    "import math\n",
    "G = 6.67*10**(-11)\n",
    "M = 5.97*10**(24)\n",
    "R = 6371*10**(3)\n",
    "def calculateheight(T):\n",
    "    h1 = (G*M*T**2)\n",
    "    h2 = (4*(math.pi)**2)\n",
    "    h = (h1/h2)**(1/3) - R\n",
    "    return(h)\n",
    "twentyfourhouraltitude = calculateheight(24*60*60)\n",
    "print(\"Height for a period of one day:\",twentyfourhouraltitude)\n",
    "print(\"Height for a period of 90 minutes:\",calculateheight(90*60))\n",
    "print(\"Height for a period of 45 minutes:\",calculateheight(45*60))"
   ]
  },
  {
   "cell_type": "markdown",
   "metadata": {},
   "source": [
    "The height for one day is 35855910.176 m, for 90 minutes it is 279321.625 m, for 45 minutes it is -2181559.8978 m"
   ]
  },
  {
   "cell_type": "markdown",
   "metadata": {},
   "source": [
    "b) The period cannot be 45 minutes (or less than that) as it implies the satellite is at a negative altitude, also telling us that an object cannot physically and circularly orbit the Earth at any altitude with a period of 45 minutes (or less).\n"
   ]
  },
  {
   "cell_type": "markdown",
   "metadata": {},
   "source": [
    "c) The difference of the orbit between a 24 hour and a sideral day is the following:"
   ]
  },
  {
   "cell_type": "code",
   "execution_count": 65,
   "metadata": {},
   "outputs": [
    {
     "name": "stdout",
     "output_type": "stream",
     "text": [
      "The difference between a 24 hour and a geosynchronous orbit is: 82147.8462793231\n"
     ]
    }
   ],
   "source": [
    "geosynchrousorbitaltitude = calculateheight(23.93*60*60)\n",
    "print(\"The difference between a 24 hour and a geosynchronous orbit is:\", twentyfourhouraltitude - geosynchrousorbitaltitude)\n"
   ]
  },
  {
   "cell_type": "markdown",
   "metadata": {},
   "source": [
    "## Problem 2"
   ]
  },
  {
   "cell_type": "markdown",
   "metadata": {},
   "source": [
    "The first line takes x in light years and converts it to meters, the second takes in v as a fraction of c, such as 0.1, 0.5, up to 1.\n"
   ]
  },
  {
   "cell_type": "markdown",
   "metadata": {},
   "source": [
    "The lines after that define the function and use the equation to calculate delta t for the moving frame, and converts it from seconds to years."
   ]
  },
  {
   "cell_type": "code",
   "execution_count": 67,
   "metadata": {},
   "outputs": [
    {
     "name": "stdout",
     "output_type": "stream",
     "text": [
      "Time it takes in seconds for the moving frame for 10.0 light years ( 9.461e+16 meters) with a speed of 0.99 c: 1.425939423299121 years\n",
      "Time it takes for the rest frame/stationary observer: 10.108216566571718 years\n"
     ]
    }
   ],
   "source": [
    "x = float(input(\"Enter distance travelled x in light years\"))*(9.461*10**15)\n",
    "v = float(input(\"Enter v as a fraction of c\"))\n",
    "c = 299792458\n",
    "def calculatedeltat(x,v):\n",
    "    deltat = x/(v*c)\n",
    "    gamma = v\n",
    "    deltatmovingframe = deltat*(1-(gamma)**2)**(1/2) / (60*60*24*365)\n",
    "    return(deltatmovingframe)\n",
    "print(\"Time it takes in seconds for the moving frame for\",x/(9.461*10**15),\"light years\",\"(\",x,\"meters) with a speed of\",v,\"c:\",calculatedeltat(x,v),\"years\")\n",
    "print(\"Time it takes for the rest frame/stationary observer:\",x/(v*c)/(60*60*24*365),\"years\")"
   ]
  },
  {
   "cell_type": "markdown",
   "metadata": {},
   "source": [
    "For 10 light years with a speed of 0.99c, it returns 1.42 years for the moving frame and for the rest frame it returns 10.1 years"
   ]
  },
  {
   "cell_type": "markdown",
   "metadata": {},
   "source": [
    "## Problem 3\n",
    "The first few lines define the constants, and the last three store the values for a5 for different conditions.\n",
    "The if and elif functions check if A and Z are even or odd using modulo, and use the corresponding value for $a_5$ in the equation."
   ]
  },
  {
   "cell_type": "code",
   "execution_count": 11,
   "metadata": {},
   "outputs": [
    {
     "name": "stdout",
     "output_type": "stream",
     "text": [
      "The binding energy is: 493.93560680136824 MeV\n",
      "The binding energy per nucleon B/A is: 8.516131151747729 MeV\n"
     ]
    }
   ],
   "source": [
    "a1=15.67\n",
    "a2=17.23\n",
    "a3=0.75\n",
    "a4=93.2\n",
    "a5Aodd=0\n",
    "a5AZeven=12\n",
    "a5AevenZodd=-12\n",
    "A = float(input(\"Enter the value of A\"))\n",
    "Z = float(input(\"Enter the value of Z\"))\n",
    "\n",
    "def B(a5):\n",
    "    B = a1*A - a2*A**(2/3) - a3*(Z**2)/(A**(1/3)) - a4*((A-2*Z)**2)/A + a5/(A**(1/2))\n",
    "    return(B)\n",
    "\n",
    "if A % 2 != 0:\n",
    "    print(\"The binding energy is:\",B(a5Aodd),\"MeV\")\n",
    "    print(\"The binding energy per nucleon B/A is:\",B(a5Aodd)/A,\"MeV\")\n",
    "    \n",
    "elif A % 2 == 0 and Z % 2 == 0:\n",
    "    print(\"The binding energy is:\",B(a5AZeven),\"MeV\")\n",
    "    print(\"The binding energy per nucleon B/A is:\",B(a5AZeven)/A,\"MeV\")\n",
    "    \n",
    "elif A % 2 == 0 and Z % 2 != 0:\n",
    "    print(\"The binding energy is:\",B(a5AevenZodd),\"MeV\")\n",
    "    print(\"The binding energy per nucleon B/A is:\",B(a5AevenZodd)/A,\"MeV\")\n"
   ]
  },
  {
   "cell_type": "markdown",
   "metadata": {},
   "source": [
    "for A = 58, Z = 28, the function returns 493 eV"
   ]
  }
 ],
 "metadata": {
  "kernelspec": {
   "display_name": "Python 3",
   "language": "python",
   "name": "python3"
  },
  "language_info": {
   "codemirror_mode": {
    "name": "ipython",
    "version": 3
   },
   "file_extension": ".py",
   "mimetype": "text/x-python",
   "name": "python",
   "nbconvert_exporter": "python",
   "pygments_lexer": "ipython3",
   "version": "3.10.6"
  }
 },
 "nbformat": 4,
 "nbformat_minor": 4
}
